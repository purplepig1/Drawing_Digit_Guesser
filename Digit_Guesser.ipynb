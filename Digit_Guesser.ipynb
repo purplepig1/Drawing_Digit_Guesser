{
  "nbformat": 4,
  "nbformat_minor": 0,
  "metadata": {
    "colab": {
      "provenance": [],
      "authorship_tag": "ABX9TyNsT47kQaTb/7HfIQN69XTB"
    },
    "kernelspec": {
      "name": "python3",
      "display_name": "Python 3"
    },
    "language_info": {
      "name": "python"
    }
  },
  "cells": [
    {
      "cell_type": "code",
      "execution_count": 2,
      "metadata": {
        "id": "sH-lCBNZV4uO"
      },
      "outputs": [],
      "source": [
        "import tensorflow as tf\n",
        "from tensorflow import keras\n",
        "from tensorflow.keras.datasets import mnist\n",
        "from tensorflow.keras import backend as K\n",
        "from tensorflow.keras.utils import to_categorical\n",
        "import numpy as np\n",
        "\n",
        "import matplotlib.pyplot as plt\n"
      ]
    },
    {
      "cell_type": "code",
      "source": [
        "# Data Loading\n",
        "(train_images, train_labels), (test_images, test_labels) = mnist.load_data()\n",
        "(train_images_backup, train_labels_backup), (test_images_backup, test_labels_backup) = mnist.load_data()\n",
        "\n",
        "# Preparing Images\n",
        "train_images = train_images.astype('float32') / 255\n",
        "test_images = test_images.astype('float32') / 255\n",
        "train_images = train_images.reshape(60000, 28, 28, 1)\n",
        "test_images = test_images.reshape(10000, 28, 28, 1)\n",
        "\n",
        "# One-hot encoding (Making the numerical value of each label the same to prevent ai prefering one label to other)\n",
        "train_labels = to_categorical(train_labels)\n",
        "test_labels = to_categorical(test_labels)\n",
        "\n",
        "# Data visualization (For human verification purposes)\n",
        "plt.figure(figsize=(10, 5))\n",
        "for i in range(10):\n",
        "  plt.subplot(2, 5, i + 1)\n",
        "  plt.imshow(train_images[i], cmap='gray')\n",
        "  plt.title(str(np.argmax(train_labels[i])))\n",
        "  plt.axis('on')\n",
        "plt.tight_layout()\n",
        "plt.show()\n"
      ],
      "metadata": {
        "id": "LOBjWxE0WlKQ",
        "colab": {
          "base_uri": "https://localhost:8080/",
          "height": 515
        },
        "outputId": "08bd261b-1cee-4c35-c610-e68c361580d9"
      },
      "execution_count": 3,
      "outputs": [
        {
          "output_type": "stream",
          "name": "stdout",
          "text": [
            "Downloading data from https://storage.googleapis.com/tensorflow/tf-keras-datasets/mnist.npz\n",
            "11490434/11490434 [==============================] - 0s 0us/step\n"
          ]
        },
        {
          "output_type": "display_data",
          "data": {
            "text/plain": [
              "<Figure size 1000x500 with 10 Axes>"
            ],
            "image/png": "[encoded data removed]"
          },
          "metadata": {}
        }
      ]
    },
    {
      "cell_type": "code",
      "source": [
        "# Making Neural Network and Training\n",
        "from tensorflow.keras.models import Sequential\n",
        "from tensorflow.keras.layers import Dense, Flatten, Conv2D, MaxPooling2D, Dropout, PReLU\n",
        "input_shape = (28, 28, 1)\n",
        "\n",
        "model = Sequential()\n",
        "model.add(Conv2D(32, (4, 4), input_shape=(28, 28, 1), activation='relu'))\n",
        "model.add(MaxPooling2D(2, 2))\n",
        "model.add(Conv2D(64, (3, 3), activation='relu'))\n",
        "model.add(MaxPooling2D(2, 2))\n",
        "model.add(Conv2D(64, (3, 3), activation='relu'))\n",
        "model.add(Flatten())\n",
        "model.add(Dropout(0.5))\n",
        "model.add(Dense(64, activation='relu'))\n",
        "model.add(Dense(10, activation='softmax'))\n",
        "model.compile(loss='categorical_crossentropy', optimizer='adam', metrics=['accuracy'])\n",
        "\n",
        "model.fit(train_images, train_labels, epochs=5, batch_size=64, validation_split=0.1)"
      ],
      "metadata": {
        "colab": {
          "base_uri": "https://localhost:8080/"
        },
        "id": "IHyFmG4hdbzJ",
        "outputId": "1e5be1a4-ac19-4093-ca25-603c3fbe88cf"
      },
      "execution_count": null,
      "outputs": [
        {
          "output_type": "stream",
          "name": "stdout",
          "text": [
            "Epoch 1/5\n",
            "844/844 [==============================] - 58s 67ms/step - loss: 0.2689 - accuracy: 0.9141 - val_loss: 0.0591 - val_accuracy: 0.9810\n",
            "Epoch 2/5\n",
            "214/844 [======>.......................] - ETA: 42s - loss: 0.0909 - accuracy: 0.9734"
          ]
        }
      ]
    },
    {
      "cell_type": "code",
      "source": [
        "# Evaluation\n",
        "test_loss, test_acc = model.evaluate(test_images, test_labels)\n",
        "print(\"Test Accuracy: \", test_acc)"
      ],
      "metadata": {
        "colab": {
          "base_uri": "https://localhost:8080/"
        },
        "id": "THrWO3GBwmHL",
        "outputId": "f7ce91d7-a0c1-4ddf-bc2a-a503bc006b4a"
      },
      "execution_count": null,
      "outputs": [
        {
          "output_type": "stream",
          "name": "stdout",
          "text": [
            "313/313 [==============================] - 3s 8ms/step - loss: 0.0209 - accuracy: 0.9932\n",
            "Test Accuracy:  0.9932000041007996\n"
          ]
        }
      ]
    },
    {
      "cell_type": "code",
      "source": [
        "# Save Model\n",
        "model.save('digit_model.h5')"
      ],
      "metadata": {
        "id": "hK_yNIwUm310"
      },
      "execution_count": null,
      "outputs": []
    },
    {
      "cell_type": "code",
      "source": [
        "# Upload your own images\n",
        "import tensorflow as tf\n",
        "from tensorflow.keras.preprocessing import image\n",
        "import numpy as np\n",
        "\n",
        "model = tf.keras.models.load_model('digit_model.h5')\n",
        "\n",
        "def preprocess_image(image_path):\n",
        "  img = image.load_img(image_path, target_size=(28, 28), color_mode='grayscale')\n",
        "  img_array = image.img_to_array(img)\n",
        "  img_array /= 255\n",
        "  img_array = np.expand_dims(img_array, axis=0)\n",
        "  return img_array\n",
        "\n",
        "def predict_number(model, img_array):\n",
        "  prediction = model.predict(img_array)\n",
        "  predicted_number = np.argmax(prediction[0])\n",
        "  probability = prediction[0][predicted_number]\n",
        "  return predicted_number, probability\n",
        "\n",
        "uploaded_image_path = 'number_2.png'\n",
        "preprocessed_img = preprocess_image(uploaded_image_path)\n",
        "\n",
        "predicted_number, probability = predict_number(model, preprocessed_img)\n",
        "\n",
        "print(f\"Prediction: {predicted_number}\")\n",
        "print(f\"Certainty: {probability}\")\n"
      ],
      "metadata": {
        "id": "MGvzZlnu7tDk",
        "colab": {
          "base_uri": "https://localhost:8080/"
        },
        "outputId": "fa672eea-63f1-4a21-c0d5-00f21d54c4d5"
      },
      "execution_count": null,
      "outputs": [
        {
          "output_type": "stream",
          "name": "stdout",
          "text": [
            "1/1 [==============================] - 0s 84ms/step\n",
            "Prediction: 2\n",
            "Certainty: 0.9929057359695435\n"
          ]
        }
      ]
    }
  ]
}